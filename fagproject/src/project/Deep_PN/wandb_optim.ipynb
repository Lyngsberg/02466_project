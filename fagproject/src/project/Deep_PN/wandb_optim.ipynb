{
 "cells": [
  {
   "cell_type": "code",
   "execution_count": 2,
   "id": "09f3d302",
   "metadata": {},
   "outputs": [
    {
     "name": "stdout",
     "output_type": "stream",
     "text": [
      "Best Run ID: 8rgq73t9\n",
      "Lowest Validation MSE: 16.275456968943278\n",
      "Hyperparameters:\n",
      "seed: 207\n",
      "epochs: 5000\n",
      "layers: [3, 3, 3]\n",
      "data_type: Folds5x2_pp.xlsx\n",
      "l2_lambda: 1e-05\n",
      "batch_size: 64\n",
      "learning_rate: 0.005058314573004348\n",
      "optimizer_name: LBFGS\n",
      "model_modul_name: ['PN_model_triang_deep', 'Polynomial_Network']\n"
     ]
    }
   ],
   "source": [
    "import wandb\n",
    "\n",
    "# Login to wandb if not already logged in\n",
    "wandb.login()\n",
    "\n",
    "# Replace with your sweep ID (format: entity/project/sweep_id)\n",
    "sweep_path = \"lyngsberg-danmarks-tekniske-universitet-dtu/Fagprojekt/btw41lrv\"\n",
    "\n",
    "# Load sweep\n",
    "api = wandb.Api()\n",
    "sweep = api.sweep(sweep_path)\n",
    "\n",
    "# Get all runs\n",
    "runs = sweep.runs\n",
    "\n",
    "# Find the run with the lowest validation MSE\n",
    "best_run = min(\n",
    "    (run for run in runs if \"validation_MSE\" in run.summary),\n",
    "    key=lambda r: float(r.summary[\"validation_MSE\"])\n",
    ")\n",
    "\n",
    "# Print best run ID and its config\n",
    "print(\"Best Run ID:\", best_run.id)\n",
    "print(\"Lowest Validation MSE:\", best_run.summary[\"validation_MSE\"])\n",
    "print(\"Hyperparameters:\")\n",
    "for key, value in best_run.config.items():\n",
    "    print(f\"{key}: {value}\")"
   ]
  },
  {
   "cell_type": "markdown",
   "id": "f6bf8c7a",
   "metadata": {},
   "source": []
  },
  {
   "cell_type": "code",
   "execution_count": null,
   "id": "8198db4b",
   "metadata": {},
   "outputs": [],
   "source": [
    "# find the top 5 runs with the highest validation MSE\n",
    "top_runs = sorted(\n",
    "    (run for run in runs if \"validation_MSE\" in run.summary),\n",
    "    key=lambda r: float(r.summary[\"validation_MSE\"]),\n",
    "    reverse=True\n",
    ")[:5]\n",
    "# Print top 5 runs\n",
    "print(\"\\nTop 5 Runs with Highest Validation MSE:\")\n",
    "for run in top_runs:\n",
    "    print(f\"Run ID: {run.id}, Validation MSE: {run.summary['validation_MSE']}\")\n",
    "    print(\"Hyperparameters:\")\n",
    "    for key, value in run.config.items():\n",
    "        print(f\"  {key}: {value}\")\n",
    "    print()\n",
    "# Print total number of runs\n",
    "print(\"Total Runs:\", len(runs))\n",
    "# Print total number of runs with validation MSE\n",
    "runs_with_mse = [run for run in runs if \"validation_MSE\" in run.summary]\n",
    "print(\"Total Runs with Validation MSE:\", len(runs_with_mse))"
   ]
  }
 ],
 "metadata": {
  "kernelspec": {
   "display_name": "Python 3",
   "language": "python",
   "name": "python3"
  },
  "language_info": {
   "codemirror_mode": {
    "name": "ipython",
    "version": 3
   },
   "file_extension": ".py",
   "mimetype": "text/x-python",
   "name": "python",
   "nbconvert_exporter": "python",
   "pygments_lexer": "ipython3",
   "version": "3.10.15"
  }
 },
 "nbformat": 4,
 "nbformat_minor": 5
}
